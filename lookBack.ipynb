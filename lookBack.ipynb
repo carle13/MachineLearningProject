{
 "cells": [
  {
   "attachments": {},
   "cell_type": "markdown",
   "metadata": {
    "_cell_guid": "fc7bf9a0-e26b-4de5-8db7-7a410a9c31d1",
    "_uuid": "91e741e3-0b5a-4d10-a22e-fab5924337e5"
   },
   "source": [
    "In this notebook we will be building and training LSTM to predict Amazon stock. We will use PyTorch."
   ]
  },
  {
   "cell_type": "markdown",
   "metadata": {},
   "source": [
    "## 1. Libraries and settings"
   ]
  },
  {
   "cell_type": "code",
   "execution_count": 1,
   "metadata": {},
   "outputs": [
    {
     "name": "stderr",
     "output_type": "stream",
     "text": [
      "C:\\Users\\carle\\AppData\\Local\\Temp\\ipykernel_22968\\3813858229.py:9: FutureWarning: The pandas.datetime class is deprecated and will be removed from pandas in a future version. Import from datetime module instead.\n",
      "  from pandas import datetime\n",
      "C:\\Users\\carle\\AppData\\Local\\Packages\\PythonSoftwareFoundation.Python.3.9_qbz5n2kfra8p0\\LocalCache\\local-packages\\Python39\\site-packages\\tqdm\\auto.py:22: TqdmWarning: IProgress not found. Please update jupyter and ipywidgets. See https://ipywidgets.readthedocs.io/en/stable/user_install.html\n",
      "  from .autonotebook import tqdm as notebook_tqdm\n"
     ]
    }
   ],
   "source": [
    "import numpy as np\n",
    "import random\n",
    "import pandas as pd \n",
    "from pylab import mpl, plt\n",
    "#plt.style.use('seaborn-paper')\n",
    "# mpl.rcParams['font.family'] = 'serif'\n",
    "%matplotlib inline\n",
    "\n",
    "from pandas import datetime\n",
    "import math, time\n",
    "import itertools\n",
    "import datetime\n",
    "from operator import itemgetter\n",
    "from sklearn.metrics import mean_squared_error\n",
    "from sklearn.preprocessing import MinMaxScaler\n",
    "from math import sqrt\n",
    "import torch\n",
    "import torch.nn as nn\n",
    "from torch.autograd import Variable\n",
    "\n",
    "\n",
    "import os\n",
    "for dirname, _, filenames in os.walk('/kaggle/input'):\n",
    "    for i, filename in enumerate(filenames):\n",
    "        if i<5:\n",
    "            print(os.path.join(dirname,filename))\n"
   ]
  },
  {
   "attachments": {},
   "cell_type": "markdown",
   "metadata": {},
   "source": [
    "Is cuda available for GPU computing?"
   ]
  },
  {
   "cell_type": "code",
   "execution_count": 2,
   "metadata": {},
   "outputs": [
    {
     "name": "stdout",
     "output_type": "stream",
     "text": [
      "True\n",
      "cuda:0\n"
     ]
    }
   ],
   "source": [
    "print(torch.cuda.is_available())\n",
    "device = torch.device(\"cuda:0\" if torch.cuda.is_available() else \"cpu\")\n",
    "print(device)"
   ]
  },
  {
   "cell_type": "markdown",
   "metadata": {},
   "source": [
    "## 2. Load data"
   ]
  },
  {
   "cell_type": "code",
   "execution_count": 3,
   "metadata": {},
   "outputs": [
    {
     "name": "stdout",
     "output_type": "stream",
     "text": [
      "[*********************100%***********************]  1 of 1 completed\n"
     ]
    }
   ],
   "source": [
    "import yfinance as yf\n",
    "data = yf.download('AMZN', period='2y', interval='1d')"
   ]
  },
  {
   "cell_type": "code",
   "execution_count": 14,
   "metadata": {},
   "outputs": [
    {
     "data": {
      "text/plain": [
       "<Figure size 432x288 with 0 Axes>"
      ]
     },
     "metadata": {},
     "output_type": "display_data"
    },
    {
     "data": {
      "image/png": "[encoded data removed]",
      "text/plain": [
       "<Figure size 432x288 with 1 Axes>"
      ]
     },
     "metadata": {
      "needs_background": "light"
     },
     "output_type": "display_data"
    }
   ],
   "source": [
    "plt.rcParams[\"axes.prop_cycle\"] = plt.cycler(\"color\", plt.cm.Dark2.colors)\n",
    "plt.figure()\n",
    "data[['Close']].plot()\n",
    "plt.ylabel(\"Stock Price ($)\")\n",
    "plt.xlabel(\"Date\")\n",
    "plt.title(\"Amazon Stock\")\n",
    "plt.savefig('amazonStock.png')\n",
    "plt.show()"
   ]
  },
  {
   "cell_type": "code",
   "execution_count": 5,
   "metadata": {},
   "outputs": [
    {
     "name": "stdout",
     "output_type": "stream",
     "text": [
      "<class 'pandas.core.frame.DataFrame'>\n",
      "DatetimeIndex: 505 entries, 2021-02-17 to 2023-02-16\n",
      "Data columns (total 1 columns):\n",
      " #   Column  Non-Null Count  Dtype  \n",
      "---  ------  --------------  -----  \n",
      " 0   Close   505 non-null    float64\n",
      "dtypes: float64(1)\n",
      "memory usage: 7.9 KB\n"
     ]
    }
   ],
   "source": [
    "close=data[['Close']]\n",
    "close.info()"
   ]
  },
  {
   "cell_type": "code",
   "execution_count": 6,
   "metadata": {},
   "outputs": [],
   "source": [
    "close=close.fillna(method='ffill')\n",
    "\n",
    "# Normalize input values to the range (-1, 1)\n",
    "scaler = MinMaxScaler(feature_range=(-1, 1))\n",
    "close['Close'] = scaler.fit_transform(close['Close'].values.reshape(-1,1))"
   ]
  },
  {
   "cell_type": "code",
   "execution_count": 7,
   "metadata": {},
   "outputs": [],
   "source": [
    "# function to create train, test data given stock data and sequence length\n",
    "def load_data(stock, look_back):\n",
    "    data_raw = stock.values # convert to numpy array\n",
    "    data = []\n",
    "    \n",
    "    # create all possible sequences of length look_back\n",
    "    for index in range(len(data_raw) - look_back): \n",
    "        data.append(data_raw[index: index + look_back])\n",
    "    \n",
    "    data = np.array(data);\n",
    "    test_set_size = int(np.round(0.2*data.shape[0]));\n",
    "    train_set_size = data.shape[0] - (test_set_size);\n",
    "    \n",
    "    x_train = data[:train_set_size,:-1,:]\n",
    "    y_train = data[:train_set_size,-1,:]\n",
    "    \n",
    "    x_test = data[train_set_size:,:-1]\n",
    "    y_test = data[train_set_size:,-1,:]\n",
    "    \n",
    "    return [x_train, y_train, x_test, y_test]"
   ]
  },
  {
   "cell_type": "markdown",
   "metadata": {},
   "source": [
    "## 3. Build the structure of model"
   ]
  },
  {
   "cell_type": "code",
   "execution_count": 8,
   "metadata": {},
   "outputs": [],
   "source": [
    "# Here we define our model as a class\n",
    "class LSTM(nn.Module):\n",
    "    def __init__(self, input_dim, hidden_dim, num_layers, output_dim):\n",
    "        super(LSTM, self).__init__()\n",
    "        # Hidden dimensions\n",
    "        self.hidden_dim = hidden_dim\n",
    "\n",
    "        # Number of hidden layers\n",
    "        self.num_layers = num_layers\n",
    "\n",
    "        # batch_first=True causes input/output tensors to be of shape\n",
    "        # (batch_dim, seq_dim, feature_dim)\n",
    "        self.lstm = nn.LSTM(input_dim, hidden_dim, num_layers, batch_first=True)\n",
    "\n",
    "        # Readout layer\n",
    "        self.fc = nn.Linear(hidden_dim, output_dim)\n",
    "\n",
    "    def forward(self, x):\n",
    "        # Initialize hidden state with zeros\n",
    "        h0 = torch.zeros(self.num_layers, x.size(0), self.hidden_dim).requires_grad_().to(device)\n",
    "\n",
    "        # Initialize cell state\n",
    "        c0 = torch.zeros(self.num_layers, x.size(0), self.hidden_dim).requires_grad_().to(device)\n",
    "\n",
    "        # We need to detach as we are doing truncated backpropagation through time (BPTT)\n",
    "        # If we don't, we'll backprop all the way to the start even after going through another batch\n",
    "        out, (hn, cn) = self.lstm(x, (h0.detach(), c0.detach()))\n",
    "\n",
    "        # Index hidden state of last time step\n",
    "        # out.size() --> 100, 32, 100\n",
    "        # out[:, -1, :] --> 100, 100 --> just want last time step hidden states! \n",
    "        out = self.fc(out[:, -1, :]) \n",
    "        # out.size() --> 100, 10\n",
    "        return out"
   ]
  },
  {
   "attachments": {},
   "cell_type": "markdown",
   "metadata": {},
   "source": [
    "# Study of look_back parameter"
   ]
  },
  {
   "cell_type": "code",
   "execution_count": 9,
   "metadata": {},
   "outputs": [],
   "source": [
    "testRMSE = []\n",
    "trainRMSE = []\n",
    "lookBacks = np.linspace(2, 496, 30, dtype=int)\n",
    "\n",
    "numModels = 10\n",
    "\n",
    "for b in range(numModels):\n",
    "    tests = []\n",
    "    trains = []\n",
    "    for look_back in lookBacks:\n",
    "        # Create train and test sets\n",
    "        ########################\n",
    "        x_train, y_train, x_test, y_test = load_data(close, look_back)\n",
    "\n",
    "        # make training and test sets in torch\n",
    "        x_train = torch.from_numpy(x_train).type(torch.Tensor).to(device)\n",
    "        x_test = torch.from_numpy(x_test).type(torch.Tensor).to(device)\n",
    "        y_train = torch.from_numpy(y_train).type(torch.Tensor).to(device)\n",
    "        y_test = torch.from_numpy(y_test).type(torch.Tensor).to(device)\n",
    "\n",
    "\n",
    "\n",
    "        # Build model\n",
    "        #####################\n",
    "        input_dim = 1\n",
    "        hidden_dim = 50\n",
    "        num_layers = 2\n",
    "        output_dim = 1\n",
    "            \n",
    "        model = LSTM(input_dim=input_dim, hidden_dim=hidden_dim, output_dim=output_dim, num_layers=num_layers).to(device)\n",
    "\n",
    "        loss_fn = torch.nn.MSELoss()\n",
    "\n",
    "        optimiser = torch.optim.Adam(model.parameters(), lr=0.01)\n",
    "        # print(model)\n",
    "        # print(len(list(model.parameters())))\n",
    "        # for i in range(len(list(model.parameters()))):\n",
    "        #     print(list(model.parameters())[i].size())\n",
    "\n",
    "\n",
    "\n",
    "        # Train model\n",
    "        #####################\n",
    "        num_epochs = 100\n",
    "        hist = np.zeros(num_epochs)\n",
    "\n",
    "        # Number of steps to unroll\n",
    "        seq_dim =look_back-1  \n",
    "\n",
    "        for t in range(num_epochs):\n",
    "            # Initialise hidden state\n",
    "            # Don't do this if you want your LSTM to be stateful\n",
    "            #model.hidden = model.init_hidden()\n",
    "            \n",
    "            # Forward pass\n",
    "            y_train_pred = model(x_train)\n",
    "\n",
    "            loss = loss_fn(y_train_pred, y_train)\n",
    "            # if t % 10 == 0 and t !=0:\n",
    "            #     print(\"Epoch \", t, \"MSE: \", loss.item())\n",
    "            hist[t] = loss.item()\n",
    "\n",
    "            # Zero out gradient, else they will accumulate between epochs\n",
    "            optimiser.zero_grad()\n",
    "\n",
    "            # Backward pass\n",
    "            loss.backward()\n",
    "\n",
    "            # Update parameters\n",
    "            optimiser.step()\n",
    "\n",
    "\n",
    "        # make predictions\n",
    "        #######################\n",
    "        y_test_pred = model(x_test)\n",
    "\n",
    "        # invert predictions\n",
    "        y_train_pred = scaler.inverse_transform(y_train_pred.detach().cpu().numpy())\n",
    "        y_train = scaler.inverse_transform(y_train.detach().cpu().numpy())\n",
    "        y_test_pred = scaler.inverse_transform(y_test_pred.detach().cpu().numpy())\n",
    "        y_test = scaler.inverse_transform(y_test.detach().cpu().numpy())\n",
    "\n",
    "        # calculate root mean squared error\n",
    "        trainScore = math.sqrt(mean_squared_error(y_train[:,0], y_train_pred[:,0]))\n",
    "        trains.append(trainScore)\n",
    "        testScore = math.sqrt(mean_squared_error(y_test[:,0], y_test_pred[:,0]))\n",
    "        tests.append(testScore)\n",
    "    \n",
    "    testRMSE.append(tests)\n",
    "    trainRMSE.append(trains)"
   ]
  },
  {
   "cell_type": "code",
   "execution_count": 12,
   "metadata": {},
   "outputs": [
    {
     "data": {
      "image/png": "[encoded data removed]",
      "text/plain": [
       "<Figure size 432x288 with 1 Axes>"
      ]
     },
     "metadata": {
      "needs_background": "light"
     },
     "output_type": "display_data"
    }
   ],
   "source": [
    "averageTrain = np.mean(trainRMSE, axis=0)\n",
    "averageTest = np.mean(testRMSE, axis=0)\n",
    "deviationTrain = np.std(trainRMSE, axis=0)\n",
    "deviationTest = np.std(testRMSE, axis=0)\n",
    "\n",
    "plt.rcParams[\"axes.prop_cycle\"] = plt.cycler(\"color\", plt.cm.Dark2.colors)\n",
    "plt.figure()\n",
    "plt.title('RMSE vs period length (AMZN)')\n",
    "plt.xlabel('Lookback')\n",
    "plt.ylabel('RMSE')\n",
    "plt.errorbar(lookBacks, averageTrain, yerr=deviationTrain, capsize=3.0, label='Train')\n",
    "plt.errorbar(lookBacks, averageTest, yerr=deviationTest, capsize=3.0, label='Test')\n",
    "plt.yscale('log')\n",
    "plt.legend()\n",
    "plt.savefig('lookBack.png')\n",
    "plt.show()"
   ]
  }
 ],
 "metadata": {
  "kernelspec": {
   "display_name": "Python 3",
   "language": "python",
   "name": "python3"
  },
  "language_info": {
   "codemirror_mode": {
    "name": "ipython",
    "version": 3
   },
   "file_extension": ".py",
   "mimetype": "text/x-python",
   "name": "python",
   "nbconvert_exporter": "python",
   "pygments_lexer": "ipython3",
   "version": "3.9.13"
  },
  "vscode": {
   "interpreter": {
    "hash": "94b5432cf878da52e11e4e3b5d5691fd71e8a0e0c8df9af64b0e723e0b4185e7"
   }
  }
 },
 "nbformat": 4,
 "nbformat_minor": 4
}
